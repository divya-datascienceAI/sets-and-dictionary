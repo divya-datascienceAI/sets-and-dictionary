{
 "cells": [
  {
   "cell_type": "markdown",
   "id": "61662174",
   "metadata": {},
   "source": [
    "# sets,dictionary"
   ]
  },
  {
   "cell_type": "code",
   "execution_count": 6,
   "id": "1a69ebeb",
   "metadata": {},
   "outputs": [
    {
     "name": "stdout",
     "output_type": "stream",
     "text": [
      "<class 'set'>\n",
      "<class 'set'>\n",
      "<class 'dict'> {'sri': 28, 'divya': 23}\n"
     ]
    }
   ],
   "source": [
    "s={5,1,78,93}\n",
    "print(type(s))\n",
    "ds={('divya',23),('sri',28)}\n",
    "print(type(ds))\n",
    "d=dict(ds)\n",
    "print(type(d),d)"
   ]
  },
  {
   "cell_type": "markdown",
   "id": "b9eb46bb",
   "metadata": {},
   "source": [
    "# adding elements in set and dictionary"
   ]
  },
  {
   "cell_type": "code",
   "execution_count": 21,
   "id": "896ee7d3",
   "metadata": {},
   "outputs": [
    {
     "name": "stdout",
     "output_type": "stream",
     "text": [
      "single element is added: {'hello', 8.9, 5, (23, 'good')}\n",
      "two elements added: {5, 8.9, 'dinu', 19, (23, 'good'), 'hello'}\n",
      "a single item is added: {'divya': 23, 'sri': 28, 'dinu': 19}\n",
      "another dict added : {'divya': 23, 'sri': 28, 'dinu': 19, 'bharathi': 25, 'srinath': 30}\n"
     ]
    }
   ],
   "source": [
    "s={'hello',8.9,(23,'good')}\n",
    "s.add(5)\n",
    "print('single element is added:',s)\n",
    "s.update(['dinu',19])\n",
    "print('two elements added:',s)\n",
    "#dictionary\n",
    "ds={'divya':23,'sri':28}\n",
    "ds['dinu']=19\n",
    "print('a single item is added:',ds)\n",
    "ds1={'bharathi':25,'srinath':30}\n",
    "ds.update(ds1)\n",
    "print('another dict added :',ds)\n"
   ]
  },
  {
   "cell_type": "markdown",
   "id": "7e12f5b8",
   "metadata": {},
   "source": [
    "# removing elements in set and dict"
   ]
  },
  {
   "cell_type": "code",
   "execution_count": 27,
   "id": "9a006401",
   "metadata": {},
   "outputs": [
    {
     "name": "stdout",
     "output_type": "stream",
     "text": [
      "discarding 10: {2, 4, 6, 7, 9}\n",
      "removing 2: {4, 6, 7, 9}\n",
      "poping any value: {6, 7, 9}\n",
      "clear set: set()\n"
     ]
    }
   ],
   "source": [
    "s={4,7,9,10,2,6}\n",
    "s.discard(10)\n",
    "print('discarding 10:',s)\n",
    "s.remove(2)\n",
    "print('removing 2:',s)\n",
    "s.pop()\n",
    "print('poping any value:',s)\n",
    "s.clear()\n",
    "print('clear set:',s)"
   ]
  },
  {
   "cell_type": "markdown",
   "id": "0c524e21",
   "metadata": {},
   "source": [
    "# union,or,and function in set"
   ]
  },
  {
   "cell_type": "code",
   "execution_count": 31,
   "id": "90003af4",
   "metadata": {},
   "outputs": [
    {
     "name": "stdout",
     "output_type": "stream",
     "text": [
      "union is: {0, 1, 33, 3, 4, 5, 6, 8}\n",
      "intersection is: {0, 5, 6}\n",
      "differences is: {8, 1, 3}\n",
      "exor is : {33, 1, 3, 4, 8}\n"
     ]
    }
   ],
   "source": [
    "s={5,3,8,1,0,6}\n",
    "s1={4,0,6,33,5}\n",
    "union=s|s1\n",
    "print('union is:',union)\n",
    "inter=s&s1\n",
    "print('intersection is:',inter)\n",
    "diff=s-s1\n",
    "print('differences is:',diff)\n",
    "exor=s^s1\n",
    "print(\"exor is :\",exor)"
   ]
  },
  {
   "cell_type": "code",
   "execution_count": null,
   "id": "499ed6f3",
   "metadata": {},
   "outputs": [],
   "source": []
  }
 ],
 "metadata": {
  "kernelspec": {
   "display_name": "Python 3",
   "language": "python",
   "name": "python3"
  },
  "language_info": {
   "codemirror_mode": {
    "name": "ipython",
    "version": 3
   },
   "file_extension": ".py",
   "mimetype": "text/x-python",
   "name": "python",
   "nbconvert_exporter": "python",
   "pygments_lexer": "ipython3",
   "version": "3.8.8"
  }
 },
 "nbformat": 4,
 "nbformat_minor": 5
}
